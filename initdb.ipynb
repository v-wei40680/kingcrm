{
 "cells": [
  {
   "cell_type": "code",
   "execution_count": null,
   "metadata": {},
   "outputs": [],
   "source": [
    "import sys, os, datetime"
   ]
  },
  {
   "cell_type": "code",
   "execution_count": 6,
   "metadata": {},
   "outputs": [
    {
     "name": "stdout",
     "output_type": "stream",
     "text": [
      "D:\\dev\\server\\kingadmin\n",
      "init DB\n"
     ]
    }
   ],
   "source": [
    "pwd = os.getcwd()\n",
    "sys.path.append(pwd)\n",
    "print(pwd)\n",
    "\n",
    "os.environ.setdefault('DJANGO_SETTINGS_MODULE', \"PerfectCRM.settings\")\n",
    "\n",
    "import django\n",
    "django.setup()\n",
    "\n",
    "from django.contrib.auth.models import User\n",
    "print('init DB')"
   ]
  },
  {
   "cell_type": "code",
   "execution_count": 7,
   "metadata": {},
   "outputs": [],
   "source": [
    "from crm.models import  *"
   ]
  },
  {
   "cell_type": "code",
   "execution_count": 8,
   "metadata": {},
   "outputs": [],
   "source": [
    "try:\n",
    "    b1 = Branch(name='大学城')\n",
    "    b1.save()\n",
    "except:\n",
    "    b1 = Branch.objects.first()\n",
    "\n",
    "try:\n",
    "    c1 = Course(name='python基础', price=999, period=1, outline='nothing')\n",
    "    c1.save()\n",
    "except:\n",
    "    c1 = Course.objects.first()"
   ]
  },
  {
   "cell_type": "code",
   "execution_count": 9,
   "metadata": {},
   "outputs": [
    {
     "data": {
      "text/plain": [
       "<Branch: 大学城>"
      ]
     },
     "execution_count": 9,
     "metadata": {},
     "output_type": "execute_result"
    }
   ],
   "source": [
    "b1"
   ]
  },
  {
   "cell_type": "code",
   "execution_count": 11,
   "metadata": {},
   "outputs": [],
   "source": [
    "u1 = User.objects.first()\n",
    "try:\n",
    "    up1 = UserProfile(name='bar', user=u1)\n",
    "    up1.save()\n",
    "except:\n",
    "    up1 = UserProfile.objects.first()"
   ]
  },
  {
   "cell_type": "code",
   "execution_count": 12,
   "metadata": {
    "scrolled": true
   },
   "outputs": [
    {
     "data": {
      "text/plain": [
       "<UserProfile: bar>"
      ]
     },
     "execution_count": 12,
     "metadata": {},
     "output_type": "execute_result"
    }
   ],
   "source": [
    "up1"
   ]
  },
  {
   "cell_type": "code",
   "execution_count": 28,
   "metadata": {},
   "outputs": [],
   "source": [
    "ci1 = CustomerInfo(name='kebi', contact='123456', source=6, contact_type=1, consult_content='suibian', status=0, consultant=up1)\n",
    "ci1.save()\n",
    "ci1.consult_courses.add(c1)"
   ]
  },
  {
   "cell_type": "code",
   "execution_count": 31,
   "metadata": {},
   "outputs": [],
   "source": [
    "try:\n",
    "    cl1 = ClassList(branch=b1, course=c1, semester=1, start_date=datetime.date.today)\n",
    "    cl1.save()\n",
    "except:\n",
    "    cl1 = ClassList.objects.first()"
   ]
  },
  {
   "cell_type": "code",
   "execution_count": 34,
   "metadata": {},
   "outputs": [],
   "source": [
    "cl1 = ClassList(branch=b1, course=c1, semester=1, start_date=datetime.date.today())\n",
    "cl1.save()"
   ]
  },
  {
   "cell_type": "code",
   "execution_count": 36,
   "metadata": {},
   "outputs": [],
   "source": [
    "cl1.teachers.add(up1)"
   ]
  },
  {
   "cell_type": "code",
   "execution_count": 42,
   "metadata": {},
   "outputs": [],
   "source": [
    "ct1 = ContractTemplate.objects.first()"
   ]
  },
  {
   "cell_type": "code",
   "execution_count": 43,
   "metadata": {},
   "outputs": [],
   "source": [
    "cl1.contract_template = ct1"
   ]
  },
  {
   "cell_type": "code",
   "execution_count": 44,
   "metadata": {},
   "outputs": [],
   "source": [
    "cl1.save()"
   ]
  },
  {
   "cell_type": "code",
   "execution_count": 38,
   "metadata": {},
   "outputs": [],
   "source": [
    "s1 = Student(customer=ci1)\n",
    "s1.save()\n",
    "s1.class_grades.add(cl1)"
   ]
  },
  {
   "cell_type": "code",
   "execution_count": 46,
   "metadata": {},
   "outputs": [],
   "source": [
    "stuEnroll1 = StudentEnrollment(customer=ci1, class_grade=cl1,  consultant=up1)\n",
    "stuEnroll1.save()"
   ]
  }
 ],
 "metadata": {
  "kernelspec": {
   "display_name": "Python 3",
   "language": "python",
   "name": "python3"
  },
  "language_info": {
   "codemirror_mode": {
    "name": "ipython",
    "version": 3
   },
   "file_extension": ".py",
   "mimetype": "text/x-python",
   "name": "python",
   "nbconvert_exporter": "python",
   "pygments_lexer": "ipython3",
   "version": "3.6.8"
  }
 },
 "nbformat": 4,
 "nbformat_minor": 2
}
